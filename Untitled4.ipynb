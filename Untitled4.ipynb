{
 "cells": [
  {
   "cell_type": "code",
   "execution_count": 4,
   "metadata": {},
   "outputs": [
    {
     "name": "stdout",
     "output_type": "stream",
     "text": [
      "hello and welcome, code academy!\n"
     ]
    }
   ],
   "source": [
    "my_name= \"code academy\"\n",
    "print(\"hello and welcome, \"+ my_name +\"!\")\n"
   ]
  },
  {
   "cell_type": "code",
   "execution_count": 5,
   "metadata": {},
   "outputs": [
    {
     "ename": "SyntaxError",
     "evalue": "invalid syntax (<ipython-input-5-a14709b58b09>, line 2)",
     "output_type": "error",
     "traceback": [
      "\u001b[1;36m  File \u001b[1;32m\"<ipython-input-5-a14709b58b09>\"\u001b[1;36m, line \u001b[1;32m2\u001b[0m\n\u001b[1;33m    enter your test here : new\u001b[0m\n\u001b[1;37m             ^\u001b[0m\n\u001b[1;31mSyntaxError\u001b[0m\u001b[1;31m:\u001b[0m invalid syntax\n"
     ]
    }
   ],
   "source": [
    "   >>> a=raw_input(\"enter your test here : \")\n",
    "   enter your test here : new\n",
    "   >>> a\n",
    "   'new'\n",
    "   >>> print a\n",
    "   new\n",
    "   >>> b=raw_input(\"enter your python expression :\")\n",
    "   enter your python expression : (1,2,3)\n",
    "   >>> print a\n",
    "   new\n",
    "   >>> print b\n",
    "   (1,2,3)\n",
    "   >>> c=input(\"enter your text here :\")\n",
    "   enter your text here :\"sunami\"\n",
    "   >>> print c\n",
    "   sunami\n",
    "   >>> d=input(\"enter your text here :\")\n",
    "   enter your text here :(1,2,3)\n",
    "   >>> print d\n",
    "   (1, 2, 3)\n",
    "   >>> print type(d)\n",
    "   <type 'tuple'>\n",
    "   >>>e=input(\"enter your text here :\")\n",
    "   enter your text here :[x*x for x in range(5)]\n",
    "   >>> print e\n",
    "   [0, 1, 4, 9, 16]\n",
    "   >>> f=raw_input(\"enter your python expression :\")\n",
    "   enter your python expression :[x*x for x in range(5)]\n",
    "   >>> print f\n",
    "   [x*x for x in range(5)]\n",
    "   >>>"
   ]
  },
  {
   "cell_type": "code",
   "execution_count": 7,
   "metadata": {},
   "outputs": [
    {
     "ename": "SyntaxError",
     "evalue": "invalid syntax (<ipython-input-7-9bf465463a74>, line 2)",
     "output_type": "error",
     "traceback": [
      "\u001b[1;36m  File \u001b[1;32m\"<ipython-input-7-9bf465463a74>\"\u001b[1;36m, line \u001b[1;32m2\u001b[0m\n\u001b[1;33m    enter your test here:new\u001b[0m\n\u001b[1;37m             ^\u001b[0m\n\u001b[1;31mSyntaxError\u001b[0m\u001b[1;31m:\u001b[0m invalid syntax\n"
     ]
    }
   ],
   "source": [
    "   >>> a=raw_input(\"enter your test here : \")\n",
    "   enter your test here:new\n",
    "   >>> a\n",
    "   'new'\n",
    "   >>> print a\n",
    "   new\n",
    "   >>> b=raw_input(\"enter your python expression :\")\n",
    "   enter your python expression : (1,2,3)\n",
    "   >>> print a\n",
    "   new\n",
    "   >>> print b\n",
    "   (1,2,3)\n",
    "   >>> c=input(\"enter your text here :\")\n",
    "   enter your text here :\"sunami\"\n",
    "   >>> print c\n",
    "   sunami\n",
    "   >>> d=input(\"enter your text here :\")\n",
    "   enter your text here :(1,2,3)\n",
    "   >>> print d\n",
    "   (1, 2, 3)\n",
    "   >>> print type(d)\n",
    "   <type 'tuple'>\n",
    "   >>>e=input(\"enter your text here :\")\n",
    "   enter your text here :[x*x for x in range(5)]\n",
    "   >>> print e\n",
    "   [0, 1, 4, 9, 16]\n",
    "   >>> f=raw_input(\"enter your python expression :\")\n",
    "   enter your python expression :[x*x for x in range(5)]\n",
    "   >>> print f\n",
    "   [x*x for x in range(5)]\n",
    "   >>>"
   ]
  },
  {
   "cell_type": "code",
   "execution_count": 8,
   "metadata": {},
   "outputs": [
    {
     "ename": "SyntaxError",
     "evalue": "invalid syntax (<ipython-input-8-8bb45a115953>, line 1)",
     "output_type": "error",
     "traceback": [
      "\u001b[1;36m  File \u001b[1;32m\"<ipython-input-8-8bb45a115953>\"\u001b[1;36m, line \u001b[1;32m1\u001b[0m\n\u001b[1;33m    <!DOCTYPE html>\u001b[0m\n\u001b[1;37m    ^\u001b[0m\n\u001b[1;31mSyntaxError\u001b[0m\u001b[1;31m:\u001b[0m invalid syntax\n"
     ]
    }
   ],
   "source": [
    "<!DOCTYPE html>\n",
    "<html>\n",
    "<head>\n",
    "<title>Page Title</title>\n",
    "</head>\n",
    "<body>\n",
    "\n",
    "<h1>This is a Heading</h1>\n",
    "<p>This is a paragraph.</p>\n",
    "\n",
    "</body>\n",
    "</html"
   ]
  },
  {
   "cell_type": "code",
   "execution_count": null,
   "metadata": {},
   "outputs": [],
   "source": []
  }
 ],
 "metadata": {
  "kernelspec": {
   "display_name": "Python 3",
   "language": "python",
   "name": "python3"
  },
  "language_info": {
   "codemirror_mode": {
    "name": "ipython",
    "version": 3
   },
   "file_extension": ".py",
   "mimetype": "text/x-python",
   "name": "python",
   "nbconvert_exporter": "python",
   "pygments_lexer": "ipython3",
   "version": "3.6.5"
  }
 },
 "nbformat": 4,
 "nbformat_minor": 2
}
